{
  "nbformat": 4,
  "nbformat_minor": 0,
  "metadata": {
    "orig_nbformat": 4,
    "language_info": {
      "name": "python"
    },
    "colab": {
      "name": "activethief.ipynb",
      "provenance": []
    }
  },
  "cells": [
    {
      "cell_type": "markdown",
      "metadata": {
        "id": "vLpQFPKX_wzZ"
      },
      "source": [
        "# ActiveThief\n",
        "\n",
        "2014-11437 장회문\n",
        "\n",
        "Model extraction attack"
      ]
    }
  ]
}