{
 "cells": [
  {
   "cell_type": "markdown",
   "source": [
    "# Knockoff Nets\r\n",
    "\r\n",
    "2014-11437 장회문"
   ],
   "metadata": {}
  }
 ],
 "metadata": {
  "orig_nbformat": 4,
  "language_info": {
   "name": "python"
  }
 },
 "nbformat": 4,
 "nbformat_minor": 2
}